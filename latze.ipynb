{
 "cells": [
  {
   "cell_type": "code",
   "execution_count": 1,
   "metadata": {},
   "outputs": [],
   "source": [
    "import time\n",
    "import heapq\n",
    "import numpy as np\n",
    "\n",
    "from random import choice\n",
    "from random import randint\n",
    "\n",
    "from collections import Counter\n",
    "from collections import defaultdict"
   ]
  },
  {
   "cell_type": "code",
   "execution_count": 2,
   "metadata": {},
   "outputs": [],
   "source": [
    "#with open(\"Downloads/test1_new.txt\") as f:\n",
    "#    lines1 = f.read().splitlines()\n",
    "\n",
    "with open(\"tests/test2_new.txt\") as f:\n",
    "    lines2 = f.read().splitlines()\n",
    "\n",
    "with open(\"tests/test3_new.txt\") as f:\n",
    "    lines3 = f.read().splitlines()\n",
    "    \n",
    "with open(\"tests/test1_aycan.txt\") as f:\n",
    "    lines4 = f.read().splitlines() \n",
    "    \n",
    "with open(\"tests/test_aycan.txt\") as f:\n",
    "    lines5 = f.read().splitlines() "
   ]
  },
  {
   "cell_type": "markdown",
   "metadata": {},
   "source": [
    "# Load File"
   ]
  },
  {
   "cell_type": "code",
   "execution_count": 3,
   "metadata": {},
   "outputs": [],
   "source": [
    "lines=lines3\n",
    "\n",
    "number_of_vertices = int(lines[0])\n",
    "number_of_edges = int(lines[1])\n",
    "\n",
    "vertices = lines[2:2+number_of_vertices]\n",
    "edges = lines[2+number_of_vertices:]\n",
    "\n",
    "ids_and_populations = [tuple(map(int, vertices[i].split(\" \"))) for i in range(len(vertices))]\n",
    "populations = dict(sorted(dict(ids_and_populations).items())) #redundant sort\n",
    "\n",
    "mydict = lambda: defaultdict(lambda: defaultdict())\n",
    "G = mydict()\n",
    "\n",
    "for i in range(len(edges)):\n",
    "    source, target, weight = map(int, edges[i].split(\" \"))\n",
    "    G[source][target] = weight\n",
    "    G[target][source] = weight\n",
    "    "
   ]
  },
  {
   "cell_type": "markdown",
   "metadata": {},
   "source": [
    "# Functions"
   ]
  },
  {
   "cell_type": "code",
   "execution_count": 4,
   "metadata": {},
   "outputs": [],
   "source": [
    "def select_neighbors(G, sub_graph, current_node, k):\n",
    "    if k == 0:\n",
    "        return sub_graph\n",
    "\n",
    "    for j in G[current_node].items():\n",
    "        sub_graph[current_node][j[0]] = j[1]\n",
    "        sub_graph[j[0]][current_node] = j[1]\n",
    "\n",
    "        sub_graph = select_neighbors(G, sub_graph, j[0], k - 1)\n",
    "    return sub_graph\n",
    "\n",
    "\n",
    "def merge_graph(dict1, dict2):\n",
    "    for key, value in dict2.items():\n",
    "        for subkey, subvalue in value.items():\n",
    "            dict1[key][subkey] = subvalue\n",
    "            dict1[subkey][key] = subvalue\n",
    "\n",
    "# INPUT:\n",
    "# G: dict, populations: dict\n",
    "def dijkstra(G, populations, source): #FIXME: THIS IS POPULATION_LIST OF OTHERS\n",
    "    costs = dict()\n",
    "    for key in G:\n",
    "        costs[key] = np.inf\n",
    "    costs[source] = 0\n",
    "\n",
    "    pq = []\n",
    "    for node in G:\n",
    "        heapq.heappush(pq, (node, costs[node]))\n",
    "\n",
    "    while len(pq) != 0:\n",
    "        current_node, current_node_distance = heapq.heappop(pq)\n",
    "        for neighbor_node in G[current_node]:\n",
    "            weight = G[current_node][neighbor_node]\n",
    "            distance = current_node_distance + weight\n",
    "            if distance < costs[neighbor_node]:\n",
    "                costs[neighbor_node] = distance\n",
    "                heapq.heappush(pq, (neighbor_node, distance))\n",
    "    \n",
    "    #return (costs.values(),population_list[])\n",
    "    sorted_costs_lst=list(dict(sorted(costs.items())).values())\n",
    "    populations_values_lst = list(dict(sorted(populations.items())).values())\n",
    "    return np.sum(np.array(sorted_costs_lst) * np.array(populations_values_lst))\n",
    "\n",
    "\n",
    "def random_start(G):\n",
    "    res = [choice(list(G.keys())), choice(list(G.keys()))]\n",
    "    if res[0] == res [1]:\n",
    "        return random_start(G)\n",
    "    print(f\"Random start: {res}\")\n",
    "    return res\n",
    "\n",
    "\n",
    "#//2 * O((V+E)*logV) = O(E*logV) //\n",
    "def allocation_cost(G, population_list, i,j):\n",
    "    return [dijkstra(G,population_list, i),dijkstra(G,population_list, j)]\n",
    "\n",
    "\n",
    "# 2*O(V)*O(E*logV) = O(E*V*logV) #\n",
    "def algo(G):\n",
    "    population_list = dict(sorted([(k, populations[k]) for k in G.keys()]))\n",
    "    #population_list = [populations[i] for i in G.keys()]\n",
    "    selected_vertices = random_start(G) \n",
    "    selected_costs = allocation_cost(G,population_list, selected_vertices[0],selected_vertices[1])\n",
    "    \n",
    "    for not_selected in G.keys():\n",
    "        if not_selected not in selected_vertices:\n",
    "            bigger = max(selected_costs)\n",
    "            this_cost = dijkstra(G,population_list, not_selected) \n",
    "            if this_cost < bigger:\n",
    "                bigger_index = selected_costs.index(bigger)\n",
    "                selected_costs[bigger_index] = this_cost\n",
    "                selected_vertices[bigger_index] = not_selected\n",
    "    return(selected_vertices,selected_costs)\n",
    "\n",
    "\n",
    "# V times Dijkstra\n",
    "def sub_graph_apsp(G):\n",
    "    population_list = dict(sorted([(k, populations[k]) for k in G.keys()]))\n",
    "    selected_vertex = choice(list(G.keys()))\n",
    "    selected_cost = dijkstra(G,population_list, selected_vertex)\n",
    "    \n",
    "    for node in G.keys():\n",
    "        if node is not selected_vertex:\n",
    "            this_cost = dijkstra(G, population_list, node) \n",
    "            if this_cost < selected_cost:\n",
    "                selected_cost = this_cost\n",
    "                selected_vertex = node    \n",
    "    return selected_vertex, selected_cost\n",
    "\n",
    "\n",
    "def algorithm_sub_graph_apsp(G, starting_node, k, hop_list):\n",
    "    sub_graph = lambda: defaultdict(lambda: defaultdict())\n",
    "    sub_graph = sub_graph()\n",
    "    sub_graph = select_neighbors(G, sub_graph, current_node=starting_node, k=k)\n",
    "    next_node, cost = sub_graph_apsp(sub_graph)\n",
    "    #print(next_node)\n",
    "    \n",
    "    if len(hop_list) > 0 and next_node == hop_list[-1][0]:\n",
    "        return next_node, cost\n",
    "    \n",
    "    hop_list.append((next_node, cost))\n",
    "    return algorithm_sub_graph_apsp(G, next_node, k, hop_list)\n",
    "\n",
    "\n",
    "def algo2(G, k):\n",
    "    nodes = []\n",
    "    costs = []\n",
    "    \n",
    "    for i in range(10):\n",
    "        node, cost = algorithm_sub_graph_apsp(G, choice(list(G.keys())), k, [])\n",
    "        nodes.append(node)\n",
    "        costs.append(cost)\n",
    "        print(node, cost)\n",
    "        \n",
    "    counter = Counter(nodes)\n",
    "    most_commons = counter.most_common(2)\n",
    "    target_nodes = (most_commons[0][0], most_commons[1][0])\n",
    "    print(f\"Target Nodes:\", target_nodes)\n",
    "    \n",
    "    sub_graph1 = lambda: defaultdict(lambda: defaultdict())\n",
    "    sub_graph1 = sub_graph1()\n",
    "    sub_graph1 = select_neighbors(G, sub_graph1, target_nodes[0], k=k+1)\n",
    "    \n",
    "    sub_graph2 = lambda: defaultdict(lambda: defaultdict())\n",
    "    sub_graph2 = sub_graph2()\n",
    "    sub_graph2 = select_neighbors(G, sub_graph2, target_nodes[1], k=k+1)\n",
    "\n",
    "    merge_graph(sub_graph1, sub_graph2)\n",
    "\n",
    "    return algo(sub_graph1)\n",
    "    #return target_nodes\n"
   ]
  },
  {
   "cell_type": "code",
   "execution_count": null,
   "metadata": {},
   "outputs": [
    {
     "name": "stdout",
     "output_type": "stream",
     "text": [
      "495437 52074145778514\n",
      "16024 46695469623712\n"
     ]
    }
   ],
   "source": [
    "algo2(G, k=3)"
   ]
  },
  {
   "cell_type": "code",
   "execution_count": null,
   "metadata": {},
   "outputs": [],
   "source": [
    "\n",
    "#for i in range(20):\n",
    "#print(algo2(G, k=5))\n",
    "\n",
    "# ([31470, 715224], [195627566180449, 194597112873142])\n"
   ]
  },
  {
   "cell_type": "code",
   "execution_count": null,
   "metadata": {},
   "outputs": [],
   "source": [
    "#for i in range(10):\n",
    "   # print(algo(G))"
   ]
  },
  {
   "cell_type": "code",
   "execution_count": null,
   "metadata": {},
   "outputs": [],
   "source": [
    "#population_list = [populations[i] for i in G.keys()]\n",
    "#dijkstra(G, population_list, 71)"
   ]
  },
  {
   "cell_type": "code",
   "execution_count": null,
   "metadata": {},
   "outputs": [],
   "source": [
    "'''\n",
    "sub_graph = lambda: defaultdict(lambda: defaultdict())\n",
    "sub_graph = sub_graph()\n",
    "start_time = time.time()\n",
    "select_neighbors(G, sub_graph, 5000, k=7)\n",
    "print(time.time() - start_time)\n",
    "\n",
    "n = len(sub_graph.values()) / 2\n",
    "n * (n-1) / 2\n",
    "'''"
   ]
  },
  {
   "cell_type": "markdown",
   "metadata": {},
   "source": [
    "# Main"
   ]
  },
  {
   "cell_type": "code",
   "execution_count": null,
   "metadata": {},
   "outputs": [],
   "source": [
    "# Initialize the sub-graph\n",
    "a = dict()\n",
    "cur_node = 40\n",
    "for i in range(10):\n",
    "    sub_graph = lambda: defaultdict(lambda: defaultdict())\n",
    "    sub_graph = sub_graph()\n",
    "    sub_graph = select_neighbors(G, sub_graph, current_node=i*4 + 49, k=5)\n",
    "    hospital_locations, costs = algo(sub_graph)\n",
    "    \n",
    "    if hospital_locations[0] not in a:\n",
    "        a[hospital_locations[0]] = 1\n",
    "    else:\n",
    "        a[hospital_locations[0]] += 1\n",
    "    if hospital_locations[1] not in a:\n",
    "        a[hospital_locations[1]] = 1\n",
    "    else:\n",
    "        a[hospital_locations[1]] += 1\n",
    "#print(hospital_locations, costs)\n",
    "\n",
    "keys = np.array([k for k, v in a.items()])\n",
    "vals = np.array([v for k, v in a.items()])\n",
    "\n",
    "keys[np.argmax(vals)]\n",
    "\n",
    "n = 2\n",
    "indices = (-vals).argsort()[:n]\n",
    "print(keys[indices[0]])\n",
    "print(keys[indices[1]])"
   ]
  },
  {
   "cell_type": "code",
   "execution_count": null,
   "metadata": {},
   "outputs": [],
   "source": [
    "#sub_graph = lambda: defaultdict(lambda: defaultdict())\n",
    "#sub_graph = sub_graph()\n",
    "#sub_graph = select_neighbors(G, sub_graph, current_node=40, k=4)\n",
    "#hospital_locations, costs = algo(sub_graph)\n",
    "#print(hospital_locations, costs)\n",
    "\n",
    "\n"
   ]
  },
  {
   "cell_type": "code",
   "execution_count": null,
   "metadata": {},
   "outputs": [],
   "source": [
    "#sub_graph = lambda: defaultdict(lambda: defaultdict())\n",
    "#sub_graph = sub_graph()\n",
    "#sub_graph = select_neighbors(G, sub_graph, current_node=40, k=5)\n",
    "\n",
    "#len(list(sub_graph.values()))"
   ]
  },
  {
   "cell_type": "code",
   "execution_count": null,
   "metadata": {},
   "outputs": [],
   "source": [
    "#hospital_locations, costs = algo(G)\n",
    "#print(hospital_locations, costs)"
   ]
  },
  {
   "cell_type": "code",
   "execution_count": null,
   "metadata": {},
   "outputs": [],
   "source": [
    "#population_list = [populations[i] for i in G.keys()]\n",
    "#dijkstra(G, population_list, 306690)"
   ]
  },
  {
   "cell_type": "code",
   "execution_count": null,
   "metadata": {},
   "outputs": [],
   "source": [
    "from collections import Counter\n",
    "a = [1,2,3,1,2,1,1,1,3,2,2,1]\n",
    "b = Counter(a)\n",
    "print(b.most_common(2))"
   ]
  },
  {
   "cell_type": "markdown",
   "metadata": {},
   "source": [
    "# New Heuristic w/ added Local Optimization over 'algo'"
   ]
  },
  {
   "cell_type": "code",
   "execution_count": null,
   "metadata": {},
   "outputs": [],
   "source": [
    "# Global/Regional Interchange Algorithm\n",
    "def GRIA(G,k):\n",
    "    population_list = dict(sorted([(k, populations[k]) for k in G.keys()]))\n",
    "    selected_vertices = random_start(G) \n",
    "    selected_costs = allocation_cost(G,population_list, selected_vertices[0],selected_vertices[1])\n",
    "    \n",
    "    for not_selected in G.keys():\n",
    "        if not_selected not in selected_vertices:\n",
    "            bigger = max(selected_costs)\n",
    "            this_cost = dijkstra(G,population_list, not_selected) \n",
    "            if this_cost < bigger:\n",
    "                bigger_index = selected_costs.index(bigger)\n",
    "                selected_costs[bigger_index] = this_cost\n",
    "                \n",
    "                temp = regional_interchange(G,not_selected,k)\n",
    "                if temp != min(selected_vertices):\n",
    "                    selected_vertices[bigger_index] = temp\n",
    "                # Regional Interchange\n",
    "                # k-th neighbor -> 5. order neighbor subgraph\n",
    "                    # V^2*logV 1-hospital problem\n",
    "    return(selected_vertices,selected_costs)\n",
    "\n",
    "def regional_interchange(G,current_node,k):\n",
    "    #k-th neighbor subgraph\n",
    "    sub_graph = lambda: defaultdict(lambda: defaultdict())\n",
    "    sub_graph = sub_graph()\n",
    "    select_neighbors(G, sub_graph, current_node, k)\n",
    "    #1-hospital\n",
    "    print(current_node,sub_graph_apsp(sub_graph)[0])\n",
    "    return sub_graph_apsp(sub_graph)[0]\n",
    "    "
   ]
  },
  {
   "cell_type": "code",
   "execution_count": null,
   "metadata": {},
   "outputs": [],
   "source": [
    "GRIA(G,5)"
   ]
  },
  {
   "cell_type": "code",
   "execution_count": null,
   "metadata": {},
   "outputs": [],
   "source": [
    "algo2(G,5)"
   ]
  },
  {
   "cell_type": "code",
   "execution_count": null,
   "metadata": {},
   "outputs": [],
   "source": [
    "algo(G)"
   ]
  },
  {
   "cell_type": "code",
   "execution_count": null,
   "metadata": {},
   "outputs": [],
   "source": [
    "def dijkstra_path(G, population_list, source):\n",
    "    costs = dict()\n",
    "    for key in G:\n",
    "        costs[key] = np.inf\n",
    "    costs[source] = 0\n",
    "    #display(source,costs)\n",
    "\n",
    "    pq = []\n",
    "    for node in G:\n",
    "        heapq.heappush(pq, (node, costs[node]))\n",
    "\n",
    "    while len(pq) != 0:\n",
    "        current_node, current_node_distance = heapq.heappop(pq)\n",
    "        for neighbor_node in G[current_node]:\n",
    "            #print(current_node,costs[source])\n",
    "            weight = G[current_node][neighbor_node]\n",
    "            distance = current_node_distance + weight\n",
    "            if distance < costs[neighbor_node]:\n",
    "                #if source==neighbor_node:\n",
    "                    #print('here')\n",
    "                costs[neighbor_node] = distance\n",
    "                heapq.heappush(pq, (neighbor_node, distance))\n",
    "    \n",
    "    sorted_costs_lst=list(dict(sorted(costs.items())).values())\n",
    "    sorted_populations_lst = list(dict(sorted(population_list.items())).values())\n",
    "    #print(np.array(sorted_costs_lst) ,np.array(sorted_populations_lst))\n",
    "    return np.array(sorted_costs_lst) * np.array(sorted_populations_lst)\n",
    "    #return list(dict(sorted(costs.items())).values())"
   ]
  },
  {
   "cell_type": "code",
   "execution_count": null,
   "metadata": {},
   "outputs": [],
   "source": [
    "population_list = dict(sorted([(k, populations[k]) for k in G.keys()]))\n",
    "dijkstra_path(G, population_list, 15)"
   ]
  },
  {
   "cell_type": "code",
   "execution_count": null,
   "metadata": {},
   "outputs": [],
   "source": [
    "population_list = [populations[i] for i in G.keys()]\n",
    "#temp = dijkstra_path(G, population_list,200)\n",
    "#[e[1] for e in sorted(list(temp.items()))]\n",
    "#sorted(list(temp.items()))\n",
    "G.keys()"
   ]
  },
  {
   "cell_type": "code",
   "execution_count": null,
   "metadata": {},
   "outputs": [],
   "source": [
    "#APSP matrix\n",
    "#def dijkstra(G, population_list, source):\n",
    "\n",
    "\n",
    "APSP = np.zeros((number_of_vertices,number_of_vertices))\n",
    "population_list = dict(sorted([(k, populations[k]) for k in G.keys()]))\n",
    "for vertex in vertices:\n",
    "    vertex= int(vertex.split()[0])\n",
    "    APSP[vertex] = [e for e in dijkstra_path(G, population_list,vertex)]\n",
    "\n",
    "def V4(APSP):\n",
    "    n = len(APSP)\n",
    "\n",
    "    res = {}\n",
    "\n",
    "    temp_arr = APSP.copy()\n",
    "\n",
    "    count=0\n",
    "    for first in range(n):\n",
    "        for second in range(n):\n",
    "            if first==second:\n",
    "                continue\n",
    "            count+=1\n",
    "            #print(first,second)\n",
    "            temp_arr = APSP.copy()\n",
    "            for row in temp_arr:\n",
    "                if row[first]<row[second]:\n",
    "                    row[second]=0\n",
    "                else:\n",
    "                    row[first]=0 \n",
    "            #print(temp_arr,count)\n",
    "            temp = sum(sum(temp_arr)) \n",
    "            #if temp in res.keys():\n",
    "                #print(res[sum(sum(temp_arr))])\n",
    "                #print('here!!!!!!!! ' ,first,second)\n",
    "            #print(temp,(first,second))\n",
    "            res[temp]=(first,second) #FIXME: there are collisions but is it a problem?\n",
    "\n",
    "            \n",
    "\n",
    "    ret=res[min(res.keys())]\n",
    "    display(len(res))\n",
    "    #display(res)\n",
    "    print('pick {}th and {}th vertices to place hospitals!'.format(ret[0],ret[1]))\n",
    "    return ret\n",
    "\n",
    "#print(APSP)\n",
    "V4(APSP)\n"
   ]
  },
  {
   "cell_type": "code",
   "execution_count": null,
   "metadata": {},
   "outputs": [],
   "source": [
    "APSP = np.zeros((2,2))\n",
    "APSP[0]"
   ]
  },
  {
   "cell_type": "code",
   "execution_count": null,
   "metadata": {},
   "outputs": [],
   "source": [
    "# 8 13\n",
    "# 9 16\n",
    "\n",
    "display(sum(dijkstra_path(G, population_list, 8))+sum(dijkstra_path(G, population_list, 13)))\n",
    "display(sum(dijkstra_path(G, population_list, 14))+sum(dijkstra_path(G, population_list, 16)))"
   ]
  }
 ],
 "metadata": {
  "kernelspec": {
   "display_name": "Python 3",
   "language": "python",
   "name": "python3"
  },
  "language_info": {
   "codemirror_mode": {
    "name": "ipython",
    "version": 3
   },
   "file_extension": ".py",
   "mimetype": "text/x-python",
   "name": "python",
   "nbconvert_exporter": "python",
   "pygments_lexer": "ipython3",
   "version": "3.8.5"
  }
 },
 "nbformat": 4,
 "nbformat_minor": 4
}
