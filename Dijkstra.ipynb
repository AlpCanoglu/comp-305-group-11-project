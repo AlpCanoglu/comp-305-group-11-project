{
 "cells": [
  {
   "cell_type": "code",
   "execution_count": null,
   "metadata": {},
   "outputs": [],
   "source": [
    "import heapq\n",
    "import numpy as np\n",
    "from collections import defaultdict"
   ]
  },
  {
   "cell_type": "code",
   "execution_count": null,
   "metadata": {},
   "outputs": [],
   "source": [
    "# DANGER\n",
    "with open(\"tests/test3_new.txt\") as f:\n",
    "    test3 = f.read().splitlines()"
   ]
  },
  {
   "cell_type": "code",
   "execution_count": 159,
   "metadata": {},
   "outputs": [],
   "source": [
    "with open(\"tests/test3_new.txt\") as f:\n",
    "    lines = f.read().splitlines()\n",
    "\n",
    "number_of_vertices = int(lines[0])\n",
    "number_of_edges = int(lines[1])\n",
    "\n",
    "vertices = lines[2:2+number_of_vertices]\n",
    "edges = lines[2+number_of_vertices:]\n",
    "\n",
    "ids_and_populations = [tuple(map(int, vertices[i].split(\" \"))) for i in range(len(vertices))]\n",
    "populations = dict(ids_and_populations)\n",
    "\n",
    "mydict = lambda: defaultdict(lambda: defaultdict())\n",
    "G = mydict()\n",
    "\n",
    "for i in range(len(edges)):\n",
    "    source, target, weight = map(int, edges[i].split(\" \"))\n",
    "    G[source][target] = weight\n",
    "    G[target][source] = weight"
   ]
  },
  {
   "cell_type": "code",
   "execution_count": 160,
   "metadata": {},
   "outputs": [],
   "source": [
    "def dijkstra(G, source):\n",
    "    costs = dict()\n",
    "    for i in range(number_of_vertices):\n",
    "        costs[i] = np.inf\n",
    "    costs[source] = 0\n",
    "    \n",
    "    pq = []\n",
    "    \n",
    "    for node in G:\n",
    "        heapq.heappush(pq, (node, costs[node]))\n",
    "    \n",
    "    while len(pq) != 0:\n",
    "        current_node, current_node_distance = heapq.heappop(pq)\n",
    "        \n",
    "        for neighbor_node in G[current_node]:\n",
    "            weight = G[current_node][neighbor_node]\n",
    "            distance = current_node_distance + weight\n",
    "            if distance < costs[neighbor_node]:\n",
    "                costs[neighbor_node] = distance\n",
    "                heapq.heappush(pq, (neighbor_node, distance))\n",
    "\n",
    "    return np.sum(np.array(list(costs.values())) * np.array(list(populations.values())))\n"
   ]
  },
  {
   "cell_type": "code",
   "execution_count": 96,
   "metadata": {},
   "outputs": [],
   "source": [
    "graph = G\n",
    "\n",
    "#[dijkstra(graph, 0) for i in range(1000)]"
   ]
  },
  {
   "cell_type": "code",
   "execution_count": null,
   "metadata": {},
   "outputs": [],
   "source": [
    "%timeit dijkstra(graph, 0)"
   ]
  },
  {
   "cell_type": "markdown",
   "metadata": {},
   "source": [
    "# Algo"
   ]
  },
  {
   "cell_type": "code",
   "execution_count": 155,
   "metadata": {},
   "outputs": [],
   "source": [
    "with open(\"tests/test2_new.txt\") as f:\n",
    "    lines = f.read().splitlines()"
   ]
  },
  {
   "cell_type": "raw",
   "metadata": {},
   "source": [
    "Problem: 2-median w/ vertex weights\n",
    "Input: G(V,E)\n",
    "Solution: Greedy Substitution Heuristic on Dijkstra SPs\n",
    "\n",
    "def random_start():\n",
    "    res = (random(0,V.size),random(0,V.size))\n",
    "    if res[0] == res [1]:\n",
    "        return random_start()\n",
    "    return res\n",
    "\n",
    "//2 * O((V+E)*logV) = O(E*logV) //\n",
    "def allocation_cost(i,j):\n",
    "    return (Dijkstra(G,i).sum , Dijkstra(G,j).sum)\n",
    "    \n",
    "        \n",
    "// 2*O(V)*O(E*logV) = O(E*V*logV) //\n",
    "def algo(G):\n",
    "    selected_vertices = random_start()\n",
    "    total_cost = allocation_cost(G,selected_vertices[0],selected_vertices[1])\n",
    "\n",
    "    for selected in range(len(total_cost)): # iterates index\n",
    "        original_cost = total_cost[selected] \n",
    "        for not_selected in (V - selected_vertices.copy()): # copy may take too much time\n",
    "            this_cost = Dijkstra(G,not_selected).cost\n",
    "            if original_cost > this_cost:\n",
    "                total_cost[selected] = this_cost # storing the resulting value\n",
    "                selected_vertices[selected] = not_selected # storing the resulting solution\n",
    "                \n",
    "//TODO : deep copy ? be sure that loop invariant does is not altered\n",
    "General:\n",
    "//TODO : how to distribute vertex weights? idea: run the algorithm 3 times for 3 options\n",
    "//TODO : how to test? idea: use APSP DP (V^3) matrix to brute force for every pair (+ V^4)\n",
    "Performance:\n",
    "//TODO : Dijkstra can get faster: \n",
    "//        binary heap -> O(E*logV) -> (E*logV = 4.5m*22=100mil)\n",
    "//        fibonacci heap- > O(E+V*logV) = O(V*logV) -> (E+V*logV = 4.5m+22*1m=27mil)\n",
    "//TODO : numpy arrays instead of python tuples (numpy arrays are implemented in C)\n",
    "//TODO : speed-up and/or space-down Dijkstra since only want cost and not the path\n",
    "\n"
   ]
  },
  {
   "cell_type": "code",
   "execution_count": null,
   "metadata": {},
   "outputs": [],
   "source": [
    "import random as r\n",
    "\n",
    "def random_start():\n",
    "    res = [r.randint(0,number_of_vertices-1),r.randint(0,number_of_vertices-1)]\n",
    "    if res[0] == res [1]:\n",
    "        return random_start()\n",
    "    return res\n",
    "\n",
    "#//2 * O((V+E)*logV) = O(E*logV) //\n",
    "def allocation_cost(G,i,j):\n",
    "    return [dijkstra(G,i),dijkstra(G,j)]\n",
    "\n",
    "\n",
    "# 2*O(V)*O(E*logV) = O(E*V*logV) #\n",
    "def algo(G):\n",
    "    selected_vertices = random_start() #TODO np.array\n",
    "    selected_costs = allocation_cost(G,selected_vertices[0],selected_vertices[1]) #TODO np.array\n",
    "    \n",
    "    for not_selected in G.keys():\n",
    "        if not_selected not in selected_vertices:\n",
    "            bigger = max(selected_costs)\n",
    "            this_cost = dijkstra(G,not_selected) \n",
    "            if this_cost < bigger:\n",
    "                bigger_index = selected_costs.index(bigger)\n",
    "                selected_costs[bigger_index] = this_cost\n",
    "                selected_vertices[bigger_index] = not_selected\n",
    "    return(selected_vertices,selected_costs)\n",
    "\n",
    "\n",
    "#%timeit algo(G)\n",
    "#[algo(G) for i in range(20)]\n",
    "\n",
    "\n",
    "algo(G)"
   ]
  },
  {
   "cell_type": "code",
   "execution_count": null,
   "metadata": {},
   "outputs": [],
   "source": [
    "lst1 = [1,23,4,5,6,88]\n",
    "lst2 = lst1.copy()\n",
    "lst2[0] = 99\n",
    "print(lst1[0]==lst2[0])"
   ]
  },
  {
   "cell_type": "code",
   "execution_count": 17,
   "metadata": {},
   "outputs": [
    {
     "data": {
      "text/plain": [
       "dict_keys([0, 2, 1, 3, 4, 5, 6])"
      ]
     },
     "execution_count": 17,
     "metadata": {},
     "output_type": "execute_result"
    }
   ],
   "source": [
    "adjacency_list.keys()\n"
   ]
  },
  {
   "cell_type": "code",
   "execution_count": 31,
   "metadata": {},
   "outputs": [
    {
     "data": {
      "text/plain": [
       "{0: 5, 1: 3, 2: 7, 3: 6, 4: 9, 5: 4}"
      ]
     },
     "execution_count": 31,
     "metadata": {},
     "output_type": "execute_result"
    }
   ],
   "source": [
    "populations"
   ]
  },
  {
   "cell_type": "code",
   "execution_count": 36,
   "metadata": {},
   "outputs": [
    {
     "data": {
      "text/plain": [
       "7"
      ]
     },
     "metadata": {},
     "output_type": "display_data"
    },
    {
     "data": {
      "text/plain": [
       "1"
      ]
     },
     "metadata": {},
     "output_type": "display_data"
    },
    {
     "data": {
      "text/plain": [
       "1"
      ]
     },
     "execution_count": 36,
     "metadata": {},
     "output_type": "execute_result"
    }
   ],
   "source": [
    "import random as r\n",
    "\n",
    "display(number_of_vertices,r.randint(0,number_of_vertices))\n",
    "r.randint(0,number_of_vertices)"
   ]
  },
  {
   "cell_type": "code",
   "execution_count": 37,
   "metadata": {},
   "outputs": [
    {
     "data": {
      "text/plain": [
       "1"
      ]
     },
     "execution_count": 37,
     "metadata": {},
     "output_type": "execute_result"
    }
   ],
   "source": [
    "(1,2)[0]"
   ]
  },
  {
   "cell_type": "code",
   "execution_count": null,
   "metadata": {},
   "outputs": [],
   "source": []
  }
 ],
 "metadata": {
  "kernelspec": {
   "display_name": "Python 3",
   "language": "python",
   "name": "python3"
  },
  "language_info": {
   "codemirror_mode": {
    "name": "ipython",
    "version": 3
   },
   "file_extension": ".py",
   "mimetype": "text/x-python",
   "name": "python",
   "nbconvert_exporter": "python",
   "pygments_lexer": "ipython3",
   "version": "3.6.8"
  }
 },
 "nbformat": 4,
 "nbformat_minor": 4
}
