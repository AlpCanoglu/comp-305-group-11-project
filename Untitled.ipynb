{
 "cells": [
  {
   "cell_type": "code",
   "execution_count": 167,
   "metadata": {},
   "outputs": [],
   "source": [
    "import heapq\n",
    "import numpy as np\n",
    "from collections import defaultdict"
   ]
  },
  {
   "cell_type": "code",
   "execution_count": 168,
   "metadata": {},
   "outputs": [],
   "source": [
    "with open(\"tests/test_aycan.txt\") as f:\n",
    "    lines = f.read().splitlines() \n",
    "\n",
    "number_of_vertices = int(lines[0])\n",
    "number_of_edges = int(lines[1])\n",
    "\n",
    "vertices = lines[2:2+number_of_vertices]\n",
    "edges = lines[2+number_of_vertices:]\n",
    "\n",
    "ids_and_populations = [tuple(map(int, vertices[i].split(\" \"))) for i in range(len(vertices))]\n",
    "populations = dict(ids_and_populations)\n",
    "\n",
    "mydict = lambda: defaultdict(lambda: defaultdict())\n",
    "adjacency_list = mydict()\n",
    "\n",
    "for i in range(len(edges)):\n",
    "    source, target, weight = map(int, edges[i].split(\" \"))\n",
    "    adjacency_list[source][target] = weight\n",
    "    adjacency_list[target][source] = weight"
   ]
  },
  {
   "cell_type": "code",
   "execution_count": 169,
   "metadata": {},
   "outputs": [],
   "source": [
    "def search(G, source):\n",
    "    costs = dict()\n",
    "    for i in range(number_of_vertices):\n",
    "        costs[i] = np.inf\n",
    "    costs[source] = 0\n",
    "    \n",
    "    #path = {}\n",
    "    pq = []\n",
    "    \n",
    "    for node in G:\n",
    "        heapq.heappush(pq, (node, costs[node]))\n",
    "    \n",
    "    while len(pq) != 0:\n",
    "        current_node, current_node_distance = heapq.heappop(pq)\n",
    "        \n",
    "        for neighbor_node in G[current_node]:\n",
    "            weight = G[current_node][neighbor_node]\n",
    "            distance = current_node_distance + weight\n",
    "            if distance < costs[neighbor_node]:\n",
    "                costs[neighbor_node] = distance\n",
    "                heapq.heappush(pq, (neighbor_node, distance))\n",
    "        \n",
    "    return np.asarray(list(costs.values())) * np.asarray(list(populations.values()))"
   ]
  },
  {
   "cell_type": "code",
   "execution_count": 166,
   "metadata": {},
   "outputs": [
    {
     "data": {
      "text/plain": [
       "array([  0,  24,  21,  54, 135,  68,  38])"
      ]
     },
     "execution_count": 166,
     "metadata": {},
     "output_type": "execute_result"
    }
   ],
   "source": [
    "graph = adjacency_list\n",
    "\n",
    "search(graph, 0)"
   ]
  },
  {
   "cell_type": "code",
   "execution_count": null,
   "metadata": {},
   "outputs": [],
   "source": []
  }
 ],
 "metadata": {
  "kernelspec": {
   "display_name": "Python 3",
   "language": "python",
   "name": "python3"
  },
  "language_info": {
   "codemirror_mode": {
    "name": "ipython",
    "version": 3
   },
   "file_extension": ".py",
   "mimetype": "text/x-python",
   "name": "python",
   "nbconvert_exporter": "python",
   "pygments_lexer": "ipython3",
   "version": "3.6.8"
  }
 },
 "nbformat": 4,
 "nbformat_minor": 4
}
